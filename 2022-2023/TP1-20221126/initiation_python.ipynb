{
 "cells": [
  {
   "cell_type": "markdown",
   "metadata": {},
   "source": [
    "# Travaux Pratiques de Machine Learning\n",
    "## Master 1 Informatique HD\n",
    "### Novembre 2022"
   ]
  },
  {
   "cell_type": "markdown",
   "metadata": {},
   "source": [
    "### Python c'est quoi?\n",
    "Un langage de programmation\n",
    "* Interprété et Orienté Objet\n",
    "* Open Source (gratuit!)\n",
    "* Très populaire dans le monde du travail"
   ]
  },
  {
   "cell_type": "markdown",
   "metadata": {},
   "source": [
    "## Premiers pas"
   ]
  },
  {
   "cell_type": "code",
   "execution_count": 186,
   "metadata": {},
   "outputs": [
    {
     "name": "stdout",
     "output_type": "stream",
     "text": [
      "Hello, World!\n"
     ]
    }
   ],
   "source": [
    "print(\"Hello, World!\")"
   ]
  },
  {
   "cell_type": "code",
   "execution_count": 187,
   "metadata": {},
   "outputs": [
    {
     "name": "stdout",
     "output_type": "stream",
     "text": [
      "a = 6 et b = 4\n"
     ]
    }
   ],
   "source": [
    "a = 3\n",
    "# Ceci est un commentaire\n",
    "a = a + 3\n",
    "b = a - 2\n",
    "print(\"a =\", a, \"et b =\",b)"
   ]
  },
  {
   "cell_type": "markdown",
   "metadata": {},
   "source": [
    "## Structures conditionnelles"
   ]
  },
  {
   "cell_type": "code",
   "execution_count": 188,
   "metadata": {},
   "outputs": [
    {
     "name": "stdout",
     "output_type": "stream",
     "text": [
      "a est positif\n"
     ]
    }
   ],
   "source": [
    "if a > 0:\n",
    "    print(\"a est positif\")\n",
    "elif a < 0:\n",
    "    print(\"a est négatif\")\n",
    "else:\n",
    "    print(\"a est nul\")"
   ]
  },
  {
   "cell_type": "markdown",
   "metadata": {},
   "source": [
    "## Opérateurs logiques"
   ]
  },
  {
   "cell_type": "code",
   "execution_count": 189,
   "metadata": {},
   "outputs": [
    {
     "name": "stdout",
     "output_type": "stream",
     "text": [
      "a est dans l'intervalle\n"
     ]
    }
   ],
   "source": [
    "if a >= 2 and a <= 8:\n",
    "    print(\"a est dans l'intervalle\")\n",
    "    \n",
    "if a < 2 or a > 8:\n",
    "    print(\"a n'est pas dans l'intervalle\")"
   ]
  },
  {
   "cell_type": "markdown",
   "metadata": {},
   "source": [
    "## Boucles et itérations"
   ]
  },
  {
   "cell_type": "code",
   "execution_count": 190,
   "metadata": {},
   "outputs": [
    {
     "name": "stdout",
     "output_type": "stream",
     "text": [
      "1 * 4 = 4\n",
      "2 * 4 = 8\n",
      "3 * 4 = 12\n",
      "4 * 4 = 16\n",
      "5 * 4 = 20\n",
      "6 * 4 = 24\n",
      "7 * 4 = 28\n",
      "8 * 4 = 32\n",
      "9 * 4 = 36\n",
      "10 * 4 = 40\n"
     ]
    }
   ],
   "source": [
    "n = 4\n",
    "i = 0\n",
    "while i < 10:\n",
    "    print(i+1, \"*\", n, \"=\", (i+1)*n)\n",
    "    i = i+1"
   ]
  },
  {
   "cell_type": "code",
   "execution_count": 191,
   "metadata": {},
   "outputs": [
    {
     "name": "stdout",
     "output_type": "stream",
     "text": [
      "14\n",
      "12\n",
      "10\n",
      "8\n",
      "6\n"
     ]
    }
   ],
   "source": [
    "for i in range(14,4,-2):\n",
    "    print(i)"
   ]
  },
  {
   "cell_type": "markdown",
   "metadata": {},
   "source": [
    "## Importation de librairies, de modules, etc."
   ]
  },
  {
   "cell_type": "code",
   "execution_count": 192,
   "metadata": {},
   "outputs": [],
   "source": [
    "# Chargement d'une librairie\n",
    "import numpy"
   ]
  },
  {
   "cell_type": "code",
   "execution_count": 193,
   "metadata": {},
   "outputs": [],
   "source": [
    "# Chargement d'une librairie et changement de nom\n",
    "import numpy as np"
   ]
  },
  {
   "cell_type": "code",
   "execution_count": 194,
   "metadata": {},
   "outputs": [],
   "source": [
    "# Importation d'un module ou d'une fonction spécifique\n",
    "from numpy import random"
   ]
  },
  {
   "cell_type": "markdown",
   "metadata": {},
   "source": [
    "## Tableaux (arrays)"
   ]
  },
  {
   "cell_type": "code",
   "execution_count": 195,
   "metadata": {},
   "outputs": [
    {
     "name": "stdout",
     "output_type": "stream",
     "text": [
      "[ 3  6  9 12 15 18]\n"
     ]
    }
   ],
   "source": [
    "x = np.array([3, 6, 9, 12,15,18])\n",
    "print(x)"
   ]
  },
  {
   "cell_type": "code",
   "execution_count": 196,
   "metadata": {},
   "outputs": [
    {
     "name": "stdout",
     "output_type": "stream",
     "text": [
      "(6,)\n"
     ]
    }
   ],
   "source": [
    "# Connaitre la dimension d'un tableau\n",
    "print(x.shape)"
   ]
  },
  {
   "cell_type": "code",
   "execution_count": 197,
   "metadata": {},
   "outputs": [
    {
     "name": "stdout",
     "output_type": "stream",
     "text": [
      "9\n"
     ]
    }
   ],
   "source": [
    "# Sélectionner un élément d'un tableau\n",
    "a = x[2] # Attention en python, les indices des tableaux commencent à 0\n",
    "print(a)"
   ]
  },
  {
   "cell_type": "code",
   "execution_count": 198,
   "metadata": {},
   "outputs": [
    {
     "name": "stdout",
     "output_type": "stream",
     "text": [
      "[ 9 12 15 18]\n"
     ]
    }
   ],
   "source": [
    "# Sélectionner plusieurs éléments d'un tableau\n",
    "b = x[-4:]\n",
    "print(b)"
   ]
  },
  {
   "cell_type": "code",
   "execution_count": 199,
   "metadata": {},
   "outputs": [
    {
     "name": "stdout",
     "output_type": "stream",
     "text": [
      "[[ 3  6]\n",
      " [ 9 12]\n",
      " [15 18]]\n"
     ]
    }
   ],
   "source": [
    "# Redimensionner un tableau\n",
    "y = x.reshape((3,2))\n",
    "print(y)"
   ]
  },
  {
   "cell_type": "code",
   "execution_count": 200,
   "metadata": {},
   "outputs": [
    {
     "name": "stdout",
     "output_type": "stream",
     "text": [
      "2ème colonne de y :  [ 6 12 18]  et 1ère ligne de y :  [3 6]\n"
     ]
    }
   ],
   "source": [
    "# Sélectionner une colonne ou une ligne d'un tableau\n",
    "c = y[:,1]\n",
    "l = y[0,:]\n",
    "print(\"2ème colonne de y : \", c, \" et 1ère ligne de y : \", l)"
   ]
  },
  {
   "cell_type": "markdown",
   "metadata": {},
   "source": [
    "## Graphes\n",
    "Utilisation de la librairie Matplotlib"
   ]
  },
  {
   "cell_type": "code",
   "execution_count": 201,
   "metadata": {},
   "outputs": [],
   "source": [
    "import matplotlib.pyplot as plt"
   ]
  },
  {
   "cell_type": "code",
   "execution_count": 202,
   "metadata": {},
   "outputs": [
    {
     "data": {
      "image/png": "[encoded data removed]",
      "text/plain": [
       "<Figure size 432x288 with 1 Axes>"
      ]
     },
     "metadata": {
      "needs_background": "light"
     },
     "output_type": "display_data"
    }
   ],
   "source": [
    "x = range(1,6)\n",
    "y1 = [0,2,4,9,16]\n",
    "y2 = [15,10,4,3,-1]\n",
    "\n",
    "fig = plt.figure()\n",
    "plt.plot(x, y1, color = 'r')\n",
    "plt.scatter(x, y2, s = 40)\n",
    "plt.axis([0,6,-2,20])\n",
    "\n",
    "plt.xlabel(\"Axe x\")\n",
    "plt.ylabel(\"Axe y\")\n",
    "plt.title(\"Un titre original\")\n",
    "\n",
    "plt.savefig(\"plot.png\")\n",
    "plt.show()"
   ]
  }
 ],
 "metadata": {
  "kernelspec": {
   "display_name": "Python 3 (ipykernel)",
   "language": "python",
   "name": "python3"
  },
  "language_info": {
   "codemirror_mode": {
    "name": "ipython",
    "version": 3
   },
   "file_extension": ".py",
   "mimetype": "text/x-python",
   "name": "python",
   "nbconvert_exporter": "python",
   "pygments_lexer": "ipython3",
   "version": "3.11.0"
  },
  "vscode": {
   "interpreter": {
    "hash": "8dccdc12338edc3b8af758c96ead8e276646b9d094fb6d2f51cabb30c467a6eb"
   }
  }
 },
 "nbformat": 4,
 "nbformat_minor": 4
}
