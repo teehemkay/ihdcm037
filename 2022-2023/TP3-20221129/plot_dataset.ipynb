{
 "cells": [
  {
   "cell_type": "markdown",
   "metadata": {},
   "source": [
    "# Travaux pratiques : Séance 3"
   ]
  },
  {
   "cell_type": "markdown",
   "metadata": {},
   "source": [
    "Fonction d'affichage pour l'algorithme K-nearest neighbors"
   ]
  },
  {
   "cell_type": "code",
   "execution_count": 1,
   "metadata": {},
   "outputs": [],
   "source": [
    "import matplotlib.pyplot as plt\n",
    "\n",
    "def plot_dataset(dataset,index_feature1,index_feature2):\n",
    "    colors = ['red','blue','green']\n",
    "    for i in range(len(dataset.target_names)):\n",
    "        plt.scatter(dataset.data[dataset.target==i,index_feature1], dataset.data[dataset.target==i,index_feature2], c=colors[i], label= dataset.target_names[i])\n",
    "    plt.xlabel(dataset.feature_names[index_feature1])\n",
    "    plt.ylabel(dataset.feature_names[index_feature2])\n",
    "    plt.legend()\n",
    "    plt.show()"
   ]
  }
 ],
 "metadata": {
  "kernelspec": {
   "display_name": "Python 3 (ipykernel)",
   "language": "python",
   "name": "python3"
  },
  "language_info": {
   "codemirror_mode": {
    "name": "ipython",
    "version": 3
   },
   "file_extension": ".py",
   "mimetype": "text/x-python",
   "name": "python",
   "nbconvert_exporter": "python",
   "pygments_lexer": "ipython3",
   "version": "3.11.0"
  },
  "vscode": {
   "interpreter": {
    "hash": "8dccdc12338edc3b8af758c96ead8e276646b9d094fb6d2f51cabb30c467a6eb"
   }
  }
 },
 "nbformat": 4,
 "nbformat_minor": 4
}
