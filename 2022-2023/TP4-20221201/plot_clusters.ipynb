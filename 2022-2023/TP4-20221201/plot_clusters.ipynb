{
 "cells": [
  {
   "cell_type": "markdown",
   "metadata": {},
   "source": [
    "# Travaux pratiques : Séance 4"
   ]
  },
  {
   "cell_type": "markdown",
   "metadata": {},
   "source": [
    "Fonction d'affichage pour l'algorithme K-means"
   ]
  },
  {
   "cell_type": "code",
   "execution_count": null,
   "metadata": {},
   "outputs": [],
   "source": [
    "import matplotlib.pyplot as plt\n",
    "from random import randint\n",
    "\n",
    "def plot_clusters(data,labels,clusters_centers):\n",
    "    colors = []\n",
    "    for i in range(len(clusters_centers)):\n",
    "        colors.append('#%06X' % randint(0, 0xFFFFFF))\n",
    "    for i in range(len(clusters_centers)):\n",
    "        plt.scatter(data[labels==i,0], data[labels==i,1], c=colors[i])\n",
    "    plt.scatter(clusters_centers[:,0], clusters_centers[:,1], marker=\"*\", s=300, edgecolor='black', c=colors)\n",
    "    plt.xlabel('petal length (cm)')\n",
    "    plt.ylabel('petal width (cm)')"
   ]
  }
 ],
 "metadata": {
  "kernelspec": {
   "display_name": "Python 3.9.12 ('base')",
   "language": "python",
   "name": "python3"
  },
  "language_info": {
   "name": "python",
   "version": "3.9.12"
  },
  "orig_nbformat": 4,
  "vscode": {
   "interpreter": {
    "hash": "8dccdc12338edc3b8af758c96ead8e276646b9d094fb6d2f51cabb30c467a6eb"
   }
  }
 },
 "nbformat": 4,
 "nbformat_minor": 2
}
