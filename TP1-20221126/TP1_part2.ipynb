{
 "cells": [
  {
   "cell_type": "markdown",
   "metadata": {
    "tags": []
   },
   "source": [
    "# Travaux pratiques : Séance 1\n",
    "## Deuxième partie\n",
    "### Utilisation d'une seule feature du dataset (BMI)"
   ]
  },
  {
   "cell_type": "markdown",
   "metadata": {},
   "source": [
    "Importation des librairies, des modules et des fonctions nécessaires"
   ]
  },
  {
   "cell_type": "code",
   "execution_count": 1,
   "metadata": {},
   "outputs": [],
   "source": [
    "import sklearn\n",
    "import numpy as np\n",
    "import matplotlib.pyplot as plt\n",
    "from sklearn import datasets\n",
    "from sklearn import linear_model\n",
    "from sklearn.metrics import mean_squared_error\n",
    "from sklearn.model_selection import train_test_split"
   ]
  },
  {
   "cell_type": "markdown",
   "metadata": {},
   "source": [
    "Importation du dataset et sauvegarde de la partie data/target"
   ]
  },
  {
   "cell_type": "code",
   "execution_count": 2,
   "metadata": {},
   "outputs": [],
   "source": [
    "diabetes = datasets.load_diabetes()\n",
    "data = diabetes.data\n",
    "target = diabetes.target"
   ]
  },
  {
   "cell_type": "markdown",
   "metadata": {},
   "source": [
    "Extraction de la colonne reprenant le BMI de chaque patient"
   ]
  },
  {
   "cell_type": "code",
   "execution_count": 3,
   "metadata": {},
   "outputs": [
    {
     "name": "stdout",
     "output_type": "stream",
     "text": [
      "Dimensions de la partie data :  (442, 1)\n",
      "Dimensions de la partie target :  (442,)\n"
     ]
    }
   ],
   "source": [
    "x = data[:,2].reshape(-1,1)\n",
    "y = target\n",
    "print('Dimensions de la partie data : ', x.shape)\n",
    "print('Dimensions de la partie target : ', y.shape)"
   ]
  },
  {
   "cell_type": "markdown",
   "metadata": {},
   "source": [
    "Première façon de diviser les données en ensemble d'entrainement et en ensemble de test"
   ]
  },
  {
   "cell_type": "code",
   "execution_count": 4,
   "metadata": {},
   "outputs": [
    {
     "name": "stdout",
     "output_type": "stream",
     "text": [
      "Dimensions de l'ensemble d'entrainement (partie data) :  (353, 1)\n",
      "Dimensions de l'ensemble de test (partie data) :  (89, 1)\n",
      "Dimensions de l'ensemble d'entrainement (partie target) :  (353,)\n",
      "Dimensions de l'ensemble de test (partie target) :  (89,)\n"
     ]
    }
   ],
   "source": [
    "ratio = int(len(x)*0.8) # Définition d'un ratio égal à 80% du nombre de patients\n",
    "\n",
    "x_train = x[:ratio]\n",
    "x_test = x[ratio:]\n",
    "print(\"Dimensions de l'ensemble d'entrainement (partie data) : \", x_train.shape)\n",
    "print(\"Dimensions de l'ensemble de test (partie data) : \", x_test.shape)\n",
    "\n",
    "y_train = y[:ratio]\n",
    "y_test = y[ratio:]\n",
    "print(\"Dimensions de l'ensemble d'entrainement (partie target) : \", y_train.shape)\n",
    "print(\"Dimensions de l'ensemble de test (partie target) : \", y_test.shape)"
   ]
  },
  {
   "cell_type": "markdown",
   "metadata": {},
   "source": [
    "Deuxième façon de diviser les données en ensemble d'entrainement et en ensemble de test"
   ]
  },
  {
   "cell_type": "code",
   "execution_count": 5,
   "metadata": {},
   "outputs": [],
   "source": [
    "x_train, x_test, y_train, y_test = train_test_split(x,y,test_size=0.2,random_state=42) \n",
    "# L'argument \"random_state = 42\" permet d'avoir la même séparation train/test et donc les mêmes résultats finaux"
   ]
  },
  {
   "cell_type": "markdown",
   "metadata": {},
   "source": [
    "Entrainement d'un modèle de Machine Learning (régression linéaire) sur l'ensemble d'entrainement"
   ]
  },
  {
   "cell_type": "code",
   "execution_count": 6,
   "metadata": {},
   "outputs": [
    {
     "name": "stdout",
     "output_type": "stream",
     "text": [
      "L'équation de la droite de regression est g(x) =  998.5776891374654 .x +  152.00335421448227\n"
     ]
    }
   ],
   "source": [
    "regr = linear_model.LinearRegression()\n",
    "regr.fit(x_train, y_train)\n",
    "\n",
    "print(\"L'équation de la droite de regression est g(x) = \", regr.coef_[0],\".x + \",regr.intercept_)\n"
   ]
  },
  {
   "cell_type": "markdown",
   "metadata": {},
   "source": [
    "Calcul de l'erreur empirique sur l'ensemble d'entrainement"
   ]
  },
  {
   "cell_type": "code",
   "execution_count": 7,
   "metadata": {},
   "outputs": [
    {
     "name": "stdout",
     "output_type": "stream",
     "text": [
      "Erreur empirique sur l'ensemble d'entrainement :  3854.11265207582\n"
     ]
    }
   ],
   "source": [
    "y_pred_train = regr.predict(x_train)\n",
    "print(\"Erreur empirique sur l'ensemble d'entrainement : \", mean_squared_error(y_train,y_pred_train))"
   ]
  },
  {
   "cell_type": "markdown",
   "metadata": {},
   "source": [
    "Calcul de l'erreur empirique sur l'ensemble de test"
   ]
  },
  {
   "cell_type": "code",
   "execution_count": 8,
   "metadata": {},
   "outputs": [
    {
     "name": "stdout",
     "output_type": "stream",
     "text": [
      "Erreur empirique sur l'ensemble de test :  4061.8259284949268\n"
     ]
    }
   ],
   "source": [
    "y_pred = regr.predict(x_test)\n",
    "print(\"Erreur empirique sur l'ensemble de test : \", mean_squared_error(y_test,y_pred))"
   ]
  },
  {
   "cell_type": "markdown",
   "metadata": {},
   "source": [
    "Affichage de la droite de régression et des données (d'entrainement et de test)"
   ]
  },
  {
   "cell_type": "code",
   "execution_count": 9,
   "metadata": {},
   "outputs": [
    {
     "data": {
      "image/png": "[encoded data removed]",
      "text/plain": [
       "<Figure size 432x288 with 1 Axes>"
      ]
     },
     "metadata": {
      "needs_background": "light"
     },
     "output_type": "display_data"
    }
   ],
   "source": [
    "x = np.linspace(-0.1,0.17,100)\n",
    "y = x*regr.coef_[0] + regr.intercept_\n",
    "\n",
    "plt.scatter(x_train, y_train, c = 'r', label = 'entrainement')\n",
    "plt.scatter(x_test, y_test, c = 'b', label = 'test')\n",
    "plt.plot(x, y, c='k', linewidth = 3, label = 'régression')\n",
    "\n",
    "plt.xlabel(\"BMI\")\n",
    "plt.ylabel(\"Target (taux de progression du diabete )\")\n",
    "plt.title(\"Régression linéaire\")\n",
    "plt.legend()\n",
    "plt.show()"
   ]
  },
  {
   "cell_type": "markdown",
   "metadata": {},
   "source": [
    "### Utilisation de toutes les features du dataset"
   ]
  },
  {
   "cell_type": "markdown",
   "metadata": {},
   "source": [
    "Première façon de diviser les données en ensemble d'entrainement et en ensemble de test"
   ]
  },
  {
   "cell_type": "code",
   "execution_count": 10,
   "metadata": {},
   "outputs": [
    {
     "name": "stdout",
     "output_type": "stream",
     "text": [
      "Dimensions de l'ensemble d'entrainement (partie data) :  (353, 10)\n",
      "Dimensions de l'ensemble de test (partie data) :  (89, 10)\n",
      "Dimensions de l'ensemble d'entrainement (partie target) :  (353,)\n",
      "Dimensions de l'ensemble de test (partie target) :  (89,)\n"
     ]
    }
   ],
   "source": [
    "x_train = data[:ratio]\n",
    "x_test = data[ratio:]\n",
    "print(\"Dimensions de l'ensemble d'entrainement (partie data) : \", x_train.shape)\n",
    "print(\"Dimensions de l'ensemble de test (partie data) : \", x_test.shape)\n",
    "\n",
    "y_train = target[:ratio]\n",
    "y_test = target[ratio:]\n",
    "print(\"Dimensions de l'ensemble d'entrainement (partie target) : \", y_train.shape)\n",
    "print(\"Dimensions de l'ensemble de test (partie target) : \", y_test.shape)"
   ]
  },
  {
   "cell_type": "markdown",
   "metadata": {},
   "source": [
    "Deuxième façon de diviser les données en ensemble d'entrainement et en ensemble de test"
   ]
  },
  {
   "cell_type": "code",
   "execution_count": 11,
   "metadata": {},
   "outputs": [],
   "source": [
    "x_train, x_test, y_train, y_test = train_test_split(data,target,test_size=0.2,random_state=42)"
   ]
  },
  {
   "cell_type": "markdown",
   "metadata": {},
   "source": [
    "Entrainement du modèle de Machine Learning sur l'ensemble d'entrainement"
   ]
  },
  {
   "cell_type": "code",
   "execution_count": 12,
   "metadata": {},
   "outputs": [
    {
     "data": {
      "text/plain": [
       "LinearRegression()"
      ]
     },
     "execution_count": 12,
     "metadata": {},
     "output_type": "execute_result"
    }
   ],
   "source": [
    "regr = linear_model.LinearRegression()\n",
    "regr.fit(x_train, y_train)"
   ]
  },
  {
   "cell_type": "markdown",
   "metadata": {},
   "source": [
    "Calcul de l'erreur empirique sur l'ensemble de test"
   ]
  },
  {
   "cell_type": "code",
   "execution_count": 13,
   "metadata": {},
   "outputs": [
    {
     "name": "stdout",
     "output_type": "stream",
     "text": [
      "Erreur empirique sur l'ensemble de test :  2900.1732878832318\n"
     ]
    }
   ],
   "source": [
    "y_pred = regr.predict(x_test)\n",
    "print(\"Erreur empirique sur l'ensemble de test : \", mean_squared_error(y_test,y_pred))"
   ]
  },
  {
   "cell_type": "markdown",
   "metadata": {},
   "source": [
    "Affichage des coefficients de la régression linéaire"
   ]
  },
  {
   "cell_type": "code",
   "execution_count": 14,
   "metadata": {},
   "outputs": [
    {
     "name": "stdout",
     "output_type": "stream",
     "text": [
      "Coefficients de la droite de régression : \n",
      " [  37.90031426 -241.96624835  542.42575342  347.70830529 -931.46126093\n",
      "  518.04405547  163.40353476  275.31003837  736.18909839   48.67112488]\n"
     ]
    }
   ],
   "source": [
    "print(\"Coefficients de la droite de régression : \\n\", regr.coef_)"
   ]
  }
 ],
 "metadata": {
  "kernelspec": {
   "display_name": "Python 3 (ipykernel)",
   "language": "python",
   "name": "python3"
  },
  "language_info": {
   "codemirror_mode": {
    "name": "ipython",
    "version": 3
   },
   "file_extension": ".py",
   "mimetype": "text/x-python",
   "name": "python",
   "nbconvert_exporter": "python",
   "pygments_lexer": "ipython3",
   "version": "3.11.0"
  },
  "vscode": {
   "interpreter": {
    "hash": "8dccdc12338edc3b8af758c96ead8e276646b9d094fb6d2f51cabb30c467a6eb"
   }
  }
 },
 "nbformat": 4,
 "nbformat_minor": 4
}
