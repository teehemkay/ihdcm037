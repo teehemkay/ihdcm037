{
 "cells": [
  {
   "cell_type": "markdown",
   "metadata": {},
   "source": [
    "# Travaux pratiques : Séance 3\n",
    "## Deuxième partie"
   ]
  },
  {
   "cell_type": "markdown",
   "metadata": {},
   "source": [
    "Importation des librairies et des modules nécessaires"
   ]
  },
  {
   "cell_type": "code",
   "execution_count": 1,
   "metadata": {},
   "outputs": [],
   "source": [
    "from sklearn import datasets\n",
    "from sklearn.neighbors import KNeighborsClassifier\n",
    "from sklearn.model_selection import train_test_split\n",
    "from sklearn.metrics import accuracy_score\n",
    "from statistics import mean"
   ]
  },
  {
   "cell_type": "markdown",
   "metadata": {},
   "source": [
    "Importation du dataset et sauvegarde de la partie data/target"
   ]
  },
  {
   "cell_type": "code",
   "execution_count": 2,
   "metadata": {},
   "outputs": [],
   "source": [
    "iris = datasets.load_iris()\n",
    "X = iris.data[:,:2]\n",
    "y = iris.target"
   ]
  },
  {
   "cell_type": "markdown",
   "metadata": {},
   "source": [
    "Boucle pour faire une cross-validation. Pour chaque division : génération d'un modèle K-nn, entrainement de ce modèle et calcul de l'accuracy pour l'ensemble d'entrainement et de test"
   ]
  },
  {
   "cell_type": "code",
   "execution_count": 3,
   "metadata": {},
   "outputs": [
    {
     "name": "stdout",
     "output_type": "stream",
     "text": [
      "Accuracy de l'ensemble de test :  0.76\n",
      "Accuracy de l'ensemble d'entrainement :  0.858\n"
     ]
    }
   ],
   "source": [
    "seed = [42,34,68,5,85] # liste permettant de faire différentes séparations des données (valeurs que va prendre le paramètre random_state)\n",
    "\n",
    "list_accuracy_train = []\n",
    "list_accuracy_test = []\n",
    "    \n",
    "for i in seed:\n",
    "    \n",
    "    X_train, X_test, y_train, y_test = train_test_split(X, y, test_size=0.33,random_state=i)\n",
    "    clf = KNeighborsClassifier(n_neighbors=3)\n",
    "    clf.fit(X_train,y_train)\n",
    "    \n",
    "    y_pred_test = clf.predict(X_test)\n",
    "    list_accuracy_test.append(accuracy_score(y_test, y_pred_test))\n",
    "    \n",
    "    y_pred_train = clf.predict(X_train)\n",
    "    list_accuracy_train.append(accuracy_score(y_train, y_pred_train))\n",
    "\n",
    "print(\"Accuracy de l'ensemble de test : \", mean(list_accuracy_test)) \n",
    "print(\"Accuracy de l'ensemble d'entrainement : \", mean(list_accuracy_train)) "
   ]
  }
 ],
 "metadata": {
  "kernelspec": {
   "display_name": "Python 3",
   "language": "python",
   "name": "python3"
  },
  "language_info": {
   "codemirror_mode": {
    "name": "ipython",
    "version": 3
   },
   "file_extension": ".py",
   "mimetype": "text/x-python",
   "name": "python",
   "nbconvert_exporter": "python",
   "pygments_lexer": "ipython3",
   "version": "3.10.12"
  }
 },
 "nbformat": 4,
 "nbformat_minor": 2
}
