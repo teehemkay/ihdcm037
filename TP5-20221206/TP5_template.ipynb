{
 "cells": [
  {
   "cell_type": "markdown",
   "metadata": {},
   "source": [
    "# Travaux pratiques : Séance 5\n",
    "## Première partie"
   ]
  },
  {
   "cell_type": "markdown",
   "metadata": {},
   "source": [
    "Importation des librairies et des modules nécessaires"
   ]
  },
  {
   "cell_type": "code",
   "execution_count": 1,
   "metadata": {},
   "outputs": [],
   "source": [
    "import numpy as np\n",
    "from sklearn import datasets\n",
    "from sklearn.model_selection import train_test_split\n",
    "from sklearn.metrics import accuracy_score\n",
    "# importer la métrique pour évaluer le modèle (dépend du jeu de données choisi (classification ou régression))"
   ]
  },
  {
   "cell_type": "markdown",
   "metadata": {},
   "source": [
    "Définition des paramètres du modèle"
   ]
  },
  {
   "cell_type": "code",
   "execution_count": 5,
   "metadata": {},
   "outputs": [],
   "source": [
    "hidden_units = 2\n",
    "epochs = ...\n",
    "learning_rate = 0.01"
   ]
  },
  {
   "cell_type": "code",
   "execution_count": null,
   "metadata": {},
   "outputs": [],
   "source": [
    "def sig(x):\n",
    "    return 1 /(1 + np.exp(-x))"
   ]
  },
  {
   "cell_type": "markdown",
   "metadata": {},
   "source": [
    "Fonction de prédiction d'une target pour une instance"
   ]
  },
  {
   "cell_type": "code",
   "execution_count": null,
   "metadata": {},
   "outputs": [],
   "source": [
    "def forward(x, w, v):\n",
    "    \n",
    "    # Attention à l'unité de biais pour les features !\n",
    "    x = x +[1]   # rajouter le x pour w0\n",
    "    \n",
    "    # Calcul des hidden units\n",
    "    z = np.ones(hidden_units + 1) # ajout d'une dimension pour l'unité de biais\n",
    "    for h in range(hidden_units):\n",
    "        z[h] = sig(np.dot(x, w)) # produit scalaire des x avec les w, appliquer sigmoid\n",
    "    \n",
    "    # Calcul de(s) l'output(s)\n",
    "    \n",
    "    y = np.dot(z, v) # produit scalaire des z avec les v\n",
    "    \n",
    "    return (y, z)"
   ]
  },
  {
   "cell_type": "markdown",
   "metadata": {},
   "source": [
    "Fonction de mise à jour des poids (backpropagation)"
   ]
  },
  {
   "cell_type": "code",
   "execution_count": null,
   "metadata": {},
   "outputs": [],
   "source": [
    "def backward(x, y, z, t, v, w, learnin_rate):\n",
    "\n",
    "    # Mise à jour des poids w et v\n",
    "    for h in range(z):\n",
    "        delta_v[h] =  \n",
    "    delta_w = ...\n",
    "    \n",
    "    v += delta_v\n",
    "    ligne_w_correspondante += delta_w"
   ]
  },
  {
   "cell_type": "markdown",
   "metadata": {},
   "source": [
    "Importation du dataset et sauvegarde de la partie data/target"
   ]
  },
  {
   "cell_type": "code",
   "execution_count": null,
   "metadata": {},
   "outputs": [],
   "source": [
    "dataset = ... \n",
    "x = dataset.data\n",
    "y = dataset.target"
   ]
  },
  {
   "cell_type": "markdown",
   "metadata": {},
   "source": [
    "Division des données en un ensemble d'entrainement et un ensemble de test"
   ]
  },
  {
   "cell_type": "code",
   "execution_count": null,
   "metadata": {},
   "outputs": [],
   "source": [
    "x_train, x_test, y_train, y_test = train_test_split(x,y,test_size=0.33,random_state=42)"
   ]
  },
  {
   "cell_type": "markdown",
   "metadata": {},
   "source": [
    "Initialisation des poids pour les deux couches du perceptron"
   ]
  },
  {
   "cell_type": "code",
   "execution_count": null,
   "metadata": {},
   "outputs": [],
   "source": [
    "w = np.random.uniform(-0.01,0.01,...) # /!\\ à l'ajout d'une dimension pour l'unité de biais\n",
    "v = np.random.uniform(-0.01,0.01,...) # /!\\ à l'ajout d'une dimension pour l'unité de biais"
   ]
  },
  {
   "cell_type": "markdown",
   "metadata": {},
   "source": [
    "Entrainement du perceptron pour un certain nombre d'époques"
   ]
  },
  {
   "cell_type": "code",
   "execution_count": null,
   "metadata": {},
   "outputs": [],
   "source": [
    "for e in range(epochs):\n",
    "    \n",
    "    # Boucle sur toutes les données d'entrainement\n",
    "    for i in range(x_train.shape[0]):\n",
    "        ... = forward(...)\n",
    "        ... = backward(...)"
   ]
  },
  {
   "cell_type": "markdown",
   "metadata": {},
   "source": [
    "Calcul de l'erreur sur l'ensemble de test"
   ]
  },
  {
   "cell_type": "code",
   "execution_count": null,
   "metadata": {},
   "outputs": [],
   "source": [
    "y_pred_test = []\n",
    "\n",
    "# Boucle sur toutes les données de test\n",
    "for i in range(x_test.shape[0]):\n",
    "    ... = forward(...) # Sur les données de test\n",
    "    y_pred_test.append(...)\n",
    "    \n",
    "print(\"Erreur sur l'ensemble de test :\", ...)"
   ]
  }
 ],
 "metadata": {
  "kernelspec": {
   "display_name": "Python 3 (ipykernel)",
   "language": "python",
   "name": "python3"
  },
  "language_info": {
   "codemirror_mode": {
    "name": "ipython",
    "version": 3
   },
   "file_extension": ".py",
   "mimetype": "text/x-python",
   "name": "python",
   "nbconvert_exporter": "python",
   "pygments_lexer": "ipython3",
   "version": "3.11.0"
  },
  "vscode": {
   "interpreter": {
    "hash": "8dccdc12338edc3b8af758c96ead8e276646b9d094fb6d2f51cabb30c467a6eb"
   }
  }
 },
 "nbformat": 4,
 "nbformat_minor": 4
}
